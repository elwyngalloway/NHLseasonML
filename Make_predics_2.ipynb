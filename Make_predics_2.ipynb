{
 "cells": [
  {
   "cell_type": "markdown",
   "metadata": {},
   "source": [
    "I want to make a prediction!\n",
    "\n",
    "I found some great leads on ML for time-series prediction here:\n",
    "\n",
    "http://machinelearningmastery.com/promise-recurrent-neural-networks-time-series-forecasting/\n",
    "\n",
    "http://machinelearningmastery.com/time-series-forecasting-long-short-term-memory-network-python/\n",
    "\n",
    "I'll try to use the Long Short-Term Memory (LSTM) Recurrent Neural Network for this prediction.\n",
    "\n",
    "\n",
    "\n",
    "These tutorials use a simple dataset to perform a straigh-forward prediction. I will break down our problem into several steps, each increasing the complication of the problem:\n",
    "\n",
    "1. Predict a player's goal scoring based on their past few season's stats - use games played & goals.\n",
    "2. Predict a player's goal scoring based on their past few season's stats - use many stat categories\n",
    "3. Predict a player's performance in a number of stat categories based on their recent performance.\n",
    "4. Predict a player's goal scoring based on many players' past few seasons' performance.\n",
    "\n",
    "\n",
    "I think I'll start with Ovi's stats. I know he has a number of years in the league and I know his player ID.\n",
    "\n",
    "\n",
    "\n",
    "Copying from \n",
    "\n",
    "https://machinelearningmastery.com/time-series-forecasting-long-short-term-memory-network-python/\n",
    "\n",
    "and modified for ML4NHL\n",
    "\n",
    "\n",
    "\n",
    "\n",
    "Set up the workspace:"
   ]
  },
  {
   "cell_type": "code",
   "execution_count": 6,
   "metadata": {
    "collapsed": false
   },
   "outputs": [
    {
     "name": "stderr",
     "output_type": "stream",
     "text": [
      "Using TensorFlow backend.\n"
     ]
    }
   ],
   "source": [
    "from pandas import DataFrame\n",
    "from pandas import Series\n",
    "from pandas import concat\n",
    "from pandas import read_csv\n",
    "#from pandas import datetime\n",
    "from sklearn.metrics import mean_squared_error\n",
    "from sklearn.preprocessing import MinMaxScaler\n",
    "from keras.models import Sequential\n",
    "from keras.layers import Dense\n",
    "from keras.layers import LSTM\n",
    "from math import sqrt\n",
    "from matplotlib import pyplot\n",
    "import numpy"
   ]
  },
  {
   "cell_type": "markdown",
   "metadata": {},
   "source": [
    "Define a function to alter a series for ML problems"
   ]
  },
  {
   "cell_type": "code",
   "execution_count": 7,
   "metadata": {
    "collapsed": true
   },
   "outputs": [],
   "source": [
    "# frame a sequence as a supervised learning problem\n",
    "def timeseries_to_supervised(data, lag=1):\n",
    "\tdf = DataFrame(data)\n",
    "\tcolumns = [df.shift(i) for i in range(1, lag+1)]\n",
    "\tcolumns.append(df)\n",
    "\tdf = concat(columns, axis=1)\n",
    "\tdf.fillna(0, inplace=True)\n",
    "\treturn df"
   ]
  },
  {
   "cell_type": "markdown",
   "metadata": {},
   "source": [
    "Define some more functions:"
   ]
  },
  {
   "cell_type": "code",
   "execution_count": 8,
   "metadata": {
    "collapsed": true
   },
   "outputs": [],
   "source": [
    "# create a differenced series\n",
    "#def difference(dataset, interval=1):\n",
    "#\tdiff = list()\n",
    "#\tfor i in range(interval, len(dataset)):\n",
    "#\t\tvalue = dataset[i] - dataset[i - interval]\n",
    "#\t\tdiff.append(value)\n",
    "#\treturn Series(diff)\n",
    " \n",
    "# invert differenced value\n",
    "#def inverse_difference(history, yhat, interval=1):\n",
    "#\treturn yhat + history[-interval]\n",
    " \n",
    "# scale train and test data to [-1, 1]\n",
    "def scale(train, test):\n",
    "\t# fit scaler\n",
    "\tscaler = MinMaxScaler(feature_range=(-1, 1))\n",
    "\tscaler = scaler.fit(train)\n",
    "\t# transform train\n",
    "\ttrain = train.reshape(train.shape[0], train.shape[1])\n",
    "\ttrain_scaled = scaler.transform(train)\n",
    "\t# transform test\n",
    "\ttest = test.reshape(test.shape[0], test.shape[1])\n",
    "\ttest_scaled = scaler.transform(test)\n",
    "\treturn scaler, train_scaled, test_scaled\n",
    " \n",
    "# inverse scaling for a forecasted value\n",
    "def invert_scale(scaler, X, value):\n",
    "\tnew_row = [x for x in X] + [value]\n",
    "\tarray = numpy.array(new_row)\n",
    "\tarray = array.reshape(1, len(array))\n",
    "\tinverted = scaler.inverse_transform(array)\n",
    "\treturn inverted[0, -1]\n",
    " \n",
    "# fit an LSTM network to training data\n",
    "def fit_lstm(train, batch_size, nb_epoch, neurons):\n",
    "\tX, y = train[:, 0:-1], train[:, -1]\n",
    "\tX = X.reshape(X.shape[0], 1, X.shape[1])\n",
    "\tmodel = Sequential()\n",
    "\tmodel.add(LSTM(neurons, batch_input_shape=(batch_size, X.shape[1], X.shape[2]), stateful=True))\n",
    "\tmodel.add(Dense(1))\n",
    "\tmodel.compile(loss='mean_squared_error', optimizer='adam')\n",
    "\tfor i in range(nb_epoch):\n",
    "\t\tmodel.fit(X, y, epochs=1, batch_size=batch_size, verbose=0, shuffle=False)\n",
    "\t\tmodel.reset_states()\n",
    "\treturn model\n",
    " \n",
    "# make a one-step forecast\n",
    "def forecast_lstm(model, batch_size, X):\n",
    "\tX = X.reshape(1, 1, len(X))\n",
    "\tyhat = model.predict(X, batch_size=batch_size)\n",
    "\treturn yhat[0,0]"
   ]
  },
  {
   "cell_type": "markdown",
   "metadata": {},
   "source": [
    "Functions defined!\n",
    "\n",
    "Let's try to apply this...."
   ]
  },
  {
   "cell_type": "code",
   "execution_count": 9,
   "metadata": {
    "collapsed": false
   },
   "outputs": [],
   "source": [
    "# load dataset\n",
    "#series = read_csv('shampoo-sales.csv', header=0, parse_dates=[0], index_col=0, squeeze=True, date_parser=parser)\n",
    "\n",
    "statspd=read_csv('NHL_skater_stats_2011-2016.csv')#,header=None)"
   ]
  },
  {
   "cell_type": "markdown",
   "metadata": {},
   "source": [
    "Okay, first we'll just need a single player's GP and goals. Extract from the stats dataframe.\n",
    "\n",
    "We're going to analyze Alex Ovechkin, whose player id is 8471214. "
   ]
  },
  {
   "cell_type": "code",
   "execution_count": 10,
   "metadata": {
    "collapsed": false
   },
   "outputs": [
    {
     "data": {
      "text/html": [
       "<div>\n",
       "<table border=\"1\" class=\"dataframe\">\n",
       "  <thead>\n",
       "    <tr style=\"text-align: right;\">\n",
       "      <th></th>\n",
       "      <th>﻿Season</th>\n",
       "      <th>Assists</th>\n",
       "      <th>FaceoffWinPctg</th>\n",
       "      <th>GameWinningGoals</th>\n",
       "      <th>GamesPlayed</th>\n",
       "      <th>Goals</th>\n",
       "      <th>OTGoals</th>\n",
       "      <th>PenaltyMinutes</th>\n",
       "      <th>PlayerFirstName</th>\n",
       "      <th>PlayerId</th>\n",
       "      <th>...</th>\n",
       "      <th>Points</th>\n",
       "      <th>PPGoals</th>\n",
       "      <th>PPPoints</th>\n",
       "      <th>SHGoals</th>\n",
       "      <th>SHPoints</th>\n",
       "      <th>ShiftsPerGame</th>\n",
       "      <th>ShootingPctg</th>\n",
       "      <th>Shots</th>\n",
       "      <th>TeamAbbrev</th>\n",
       "      <th>TimeOnIcePerGame</th>\n",
       "    </tr>\n",
       "  </thead>\n",
       "  <tbody>\n",
       "    <tr>\n",
       "      <th>2</th>\n",
       "      <td>20112012</td>\n",
       "      <td>31</td>\n",
       "      <td>0.4375</td>\n",
       "      <td>4</td>\n",
       "      <td>92</td>\n",
       "      <td>43</td>\n",
       "      <td>2</td>\n",
       "      <td>34</td>\n",
       "      <td>Alex</td>\n",
       "      <td>8471214</td>\n",
       "      <td>...</td>\n",
       "      <td>74</td>\n",
       "      <td>15</td>\n",
       "      <td>27</td>\n",
       "      <td>0</td>\n",
       "      <td>0</td>\n",
       "      <td>21.4782</td>\n",
       "      <td>0.1218</td>\n",
       "      <td>353</td>\n",
       "      <td>NaN</td>\n",
       "      <td>1188.4891</td>\n",
       "    </tr>\n",
       "    <tr>\n",
       "      <th>1235</th>\n",
       "      <td>20122013</td>\n",
       "      <td>25</td>\n",
       "      <td>0.0000</td>\n",
       "      <td>4</td>\n",
       "      <td>55</td>\n",
       "      <td>33</td>\n",
       "      <td>0</td>\n",
       "      <td>40</td>\n",
       "      <td>Alex</td>\n",
       "      <td>8471214</td>\n",
       "      <td>...</td>\n",
       "      <td>58</td>\n",
       "      <td>17</td>\n",
       "      <td>29</td>\n",
       "      <td>0</td>\n",
       "      <td>0</td>\n",
       "      <td>21.3818</td>\n",
       "      <td>0.1320</td>\n",
       "      <td>250</td>\n",
       "      <td>NaN</td>\n",
       "      <td>1251.9454</td>\n",
       "    </tr>\n",
       "    <tr>\n",
       "      <th>2495</th>\n",
       "      <td>20132014</td>\n",
       "      <td>28</td>\n",
       "      <td>0.6666</td>\n",
       "      <td>10</td>\n",
       "      <td>78</td>\n",
       "      <td>51</td>\n",
       "      <td>3</td>\n",
       "      <td>48</td>\n",
       "      <td>Alex</td>\n",
       "      <td>8471214</td>\n",
       "      <td>...</td>\n",
       "      <td>79</td>\n",
       "      <td>24</td>\n",
       "      <td>39</td>\n",
       "      <td>0</td>\n",
       "      <td>1</td>\n",
       "      <td>21.7948</td>\n",
       "      <td>0.1321</td>\n",
       "      <td>386</td>\n",
       "      <td>NaN</td>\n",
       "      <td>1232.7179</td>\n",
       "    </tr>\n",
       "    <tr>\n",
       "      <th>3144</th>\n",
       "      <td>20142015</td>\n",
       "      <td>32</td>\n",
       "      <td>0.5000</td>\n",
       "      <td>11</td>\n",
       "      <td>95</td>\n",
       "      <td>58</td>\n",
       "      <td>0</td>\n",
       "      <td>64</td>\n",
       "      <td>Alex</td>\n",
       "      <td>8471214</td>\n",
       "      <td>...</td>\n",
       "      <td>90</td>\n",
       "      <td>26</td>\n",
       "      <td>36</td>\n",
       "      <td>0</td>\n",
       "      <td>0</td>\n",
       "      <td>22.8105</td>\n",
       "      <td>0.1271</td>\n",
       "      <td>456</td>\n",
       "      <td>NaN</td>\n",
       "      <td>1216.2526</td>\n",
       "    </tr>\n",
       "    <tr>\n",
       "      <th>4126</th>\n",
       "      <td>20152016</td>\n",
       "      <td>28</td>\n",
       "      <td>0.0000</td>\n",
       "      <td>9</td>\n",
       "      <td>91</td>\n",
       "      <td>55</td>\n",
       "      <td>2</td>\n",
       "      <td>55</td>\n",
       "      <td>Alex</td>\n",
       "      <td>8471214</td>\n",
       "      <td>...</td>\n",
       "      <td>83</td>\n",
       "      <td>22</td>\n",
       "      <td>31</td>\n",
       "      <td>0</td>\n",
       "      <td>0</td>\n",
       "      <td>22.0000</td>\n",
       "      <td>0.1195</td>\n",
       "      <td>460</td>\n",
       "      <td>NaN</td>\n",
       "      <td>1226.5384</td>\n",
       "    </tr>\n",
       "  </tbody>\n",
       "</table>\n",
       "<p>5 rows × 24 columns</p>\n",
       "</div>"
      ],
      "text/plain": [
       "       ﻿Season  Assists  FaceoffWinPctg  GameWinningGoals  GamesPlayed  Goals  \\\n",
       "2     20112012       31          0.4375                 4           92     43   \n",
       "1235  20122013       25          0.0000                 4           55     33   \n",
       "2495  20132014       28          0.6666                10           78     51   \n",
       "3144  20142015       32          0.5000                11           95     58   \n",
       "4126  20152016       28          0.0000                 9           91     55   \n",
       "\n",
       "      OTGoals  PenaltyMinutes PlayerFirstName  PlayerId        ...         \\\n",
       "2           2              34            Alex   8471214        ...          \n",
       "1235        0              40            Alex   8471214        ...          \n",
       "2495        3              48            Alex   8471214        ...          \n",
       "3144        0              64            Alex   8471214        ...          \n",
       "4126        2              55            Alex   8471214        ...          \n",
       "\n",
       "     Points PPGoals PPPoints  SHGoals  SHPoints  ShiftsPerGame  ShootingPctg  \\\n",
       "2        74      15       27        0         0        21.4782        0.1218   \n",
       "1235     58      17       29        0         0        21.3818        0.1320   \n",
       "2495     79      24       39        0         1        21.7948        0.1321   \n",
       "3144     90      26       36        0         0        22.8105        0.1271   \n",
       "4126     83      22       31        0         0        22.0000        0.1195   \n",
       "\n",
       "      Shots  TeamAbbrev  TimeOnIcePerGame  \n",
       "2       353         NaN         1188.4891  \n",
       "1235    250         NaN         1251.9454  \n",
       "2495    386         NaN         1232.7179  \n",
       "3144    456         NaN         1216.2526  \n",
       "4126    460         NaN         1226.5384  \n",
       "\n",
       "[5 rows x 24 columns]"
      ]
     },
     "execution_count": 10,
     "metadata": {},
     "output_type": "execute_result"
    }
   ],
   "source": [
    "OVIstats = statspd.drop(statspd.index[statspd.PlayerId != 8471214])\n",
    "\n",
    "OVIstats"
   ]
  },
  {
   "cell_type": "code",
   "execution_count": 11,
   "metadata": {
    "collapsed": false
   },
   "outputs": [
    {
     "name": "stdout",
     "output_type": "stream",
     "text": [
      "Index(['﻿Season', 'Assists', 'FaceoffWinPctg', 'GameWinningGoals',\n",
      "       'GamesPlayed', 'Goals', 'OTGoals', 'PenaltyMinutes', 'PlayerFirstName',\n",
      "       'PlayerId', 'PlayerLastName', 'PlayerName', 'PlayerPositionCode',\n",
      "       'PlusMinus', 'Points', 'PPGoals', 'PPPoints', 'SHGoals', 'SHPoints',\n",
      "       'ShiftsPerGame', 'ShootingPctg', 'Shots', 'TeamAbbrev',\n",
      "       'TimeOnIcePerGame'],\n",
      "      dtype='object')\n"
     ]
    }
   ],
   "source": [
    "print(OVIstats.columns)"
   ]
  },
  {
   "cell_type": "markdown",
   "metadata": {},
   "source": [
    "Okay, let's pare this down to only the stats we need..."
   ]
  },
  {
   "cell_type": "code",
   "execution_count": 12,
   "metadata": {
    "collapsed": false
   },
   "outputs": [
    {
     "data": {
      "text/html": [
       "<div>\n",
       "<table border=\"1\" class=\"dataframe\">\n",
       "  <thead>\n",
       "    <tr style=\"text-align: right;\">\n",
       "      <th></th>\n",
       "      <th>Goals</th>\n",
       "    </tr>\n",
       "  </thead>\n",
       "  <tbody>\n",
       "    <tr>\n",
       "      <th>2</th>\n",
       "      <td>43</td>\n",
       "    </tr>\n",
       "    <tr>\n",
       "      <th>1235</th>\n",
       "      <td>33</td>\n",
       "    </tr>\n",
       "    <tr>\n",
       "      <th>2495</th>\n",
       "      <td>51</td>\n",
       "    </tr>\n",
       "    <tr>\n",
       "      <th>3144</th>\n",
       "      <td>58</td>\n",
       "    </tr>\n",
       "    <tr>\n",
       "      <th>4126</th>\n",
       "      <td>55</td>\n",
       "    </tr>\n",
       "  </tbody>\n",
       "</table>\n",
       "</div>"
      ],
      "text/plain": [
       "      Goals\n",
       "2        43\n",
       "1235     33\n",
       "2495     51\n",
       "3144     58\n",
       "4126     55"
      ]
     },
     "execution_count": 12,
     "metadata": {},
     "output_type": "execute_result"
    }
   ],
   "source": [
    "OVIstats.drop(['﻿Season','Assists', 'FaceoffWinPctg', 'GameWinningGoals','GamesPlayed', 'OTGoals', 'PenaltyMinutes', 'PlayerFirstName',\n",
    "       'PlayerId', 'PlayerLastName', 'PlayerName', 'PlayerPositionCode',\n",
    "       'PlusMinus', 'Points', 'PPGoals', 'PPPoints', 'SHGoals', 'SHPoints',\n",
    "       'ShiftsPerGame', 'ShootingPctg', 'Shots', 'TeamAbbrev',\n",
    "       'TimeOnIcePerGame'], axis=1, inplace=True)\n",
    "OVIstats.rename(columns={'﻿Season': 'Season'}, inplace=True)\n",
    "\n",
    "\n",
    "\n",
    "OVIstats"
   ]
  },
  {
   "cell_type": "markdown",
   "metadata": {},
   "source": [
    "Manipulating the data has been easy via Pandas, but the flow will need the data in a Numpy array."
   ]
  },
  {
   "cell_type": "code",
   "execution_count": 13,
   "metadata": {
    "collapsed": false
   },
   "outputs": [
    {
     "data": {
      "text/plain": [
       "pandas.core.frame.DataFrame"
      ]
     },
     "execution_count": 13,
     "metadata": {},
     "output_type": "execute_result"
    }
   ],
   "source": [
    "type(OVIstats)"
   ]
  },
  {
   "cell_type": "code",
   "execution_count": 14,
   "metadata": {
    "collapsed": false
   },
   "outputs": [],
   "source": [
    "#OVIseries = numpy.array(OVIstats.values)\n",
    "\n",
    "#OVIseries"
   ]
  },
  {
   "cell_type": "code",
   "execution_count": 15,
   "metadata": {
    "collapsed": false
   },
   "outputs": [],
   "source": [
    "# transform data to be stationary\n",
    "raw_values = OVIstats.values\n",
    "#diff_values = difference(raw_values, 1)"
   ]
  },
  {
   "cell_type": "markdown",
   "metadata": {},
   "source": []
  },
  {
   "cell_type": "code",
   "execution_count": 16,
   "metadata": {
    "collapsed": false
   },
   "outputs": [],
   "source": [
    "# transform data to be supervised learning\n",
    "supervised = timeseries_to_supervised(raw_values,1)#diff_values, 1)\n",
    "supervised_values = supervised.values[1:]"
   ]
  },
  {
   "cell_type": "code",
   "execution_count": 17,
   "metadata": {
    "collapsed": false
   },
   "outputs": [
    {
     "data": {
      "text/html": [
       "<div>\n",
       "<table border=\"1\" class=\"dataframe\">\n",
       "  <thead>\n",
       "    <tr style=\"text-align: right;\">\n",
       "      <th></th>\n",
       "      <th>0</th>\n",
       "      <th>0</th>\n",
       "    </tr>\n",
       "  </thead>\n",
       "  <tbody>\n",
       "    <tr>\n",
       "      <th>0</th>\n",
       "      <td>0.0</td>\n",
       "      <td>43</td>\n",
       "    </tr>\n",
       "    <tr>\n",
       "      <th>1</th>\n",
       "      <td>43.0</td>\n",
       "      <td>33</td>\n",
       "    </tr>\n",
       "    <tr>\n",
       "      <th>2</th>\n",
       "      <td>33.0</td>\n",
       "      <td>51</td>\n",
       "    </tr>\n",
       "    <tr>\n",
       "      <th>3</th>\n",
       "      <td>51.0</td>\n",
       "      <td>58</td>\n",
       "    </tr>\n",
       "    <tr>\n",
       "      <th>4</th>\n",
       "      <td>58.0</td>\n",
       "      <td>55</td>\n",
       "    </tr>\n",
       "  </tbody>\n",
       "</table>\n",
       "</div>"
      ],
      "text/plain": [
       "      0   0\n",
       "0   0.0  43\n",
       "1  43.0  33\n",
       "2  33.0  51\n",
       "3  51.0  58\n",
       "4  58.0  55"
      ]
     },
     "execution_count": 17,
     "metadata": {},
     "output_type": "execute_result"
    }
   ],
   "source": [
    "supervised"
   ]
  },
  {
   "cell_type": "code",
   "execution_count": 19,
   "metadata": {
    "collapsed": false
   },
   "outputs": [
    {
     "data": {
      "text/plain": [
       "array([[ 43.,  33.],\n",
       "       [ 33.,  51.],\n",
       "       [ 51.,  58.],\n",
       "       [ 58.,  55.]])"
      ]
     },
     "execution_count": 19,
     "metadata": {},
     "output_type": "execute_result"
    }
   ],
   "source": [
    "supervised_values"
   ]
  },
  {
   "cell_type": "markdown",
   "metadata": {},
   "source": []
  },
  {
   "cell_type": "code",
   "execution_count": 20,
   "metadata": {
    "collapsed": false
   },
   "outputs": [],
   "source": [
    "# split data into train and test-sets\n",
    "train, test = supervised_values[:], supervised_values[:]"
   ]
  },
  {
   "cell_type": "markdown",
   "metadata": {},
   "source": []
  },
  {
   "cell_type": "code",
   "execution_count": 21,
   "metadata": {
    "collapsed": true
   },
   "outputs": [],
   "source": [
    "# transform the scale of the data\n",
    "scaler, train_scaled, test_scaled = scale(train, test)"
   ]
  },
  {
   "cell_type": "markdown",
   "metadata": {},
   "source": []
  },
  {
   "cell_type": "code",
   "execution_count": 22,
   "metadata": {
    "collapsed": false
   },
   "outputs": [],
   "source": [
    "# fit the model\n",
    "lstm_model = fit_lstm(train_scaled, 1, 1000, 2)"
   ]
  },
  {
   "cell_type": "code",
   "execution_count": 23,
   "metadata": {
    "collapsed": false
   },
   "outputs": [
    {
     "data": {
      "text/plain": [
       "array([[-0.99137849],\n",
       "       [ 0.43627858],\n",
       "       [ 0.99557692],\n",
       "       [ 0.7605288 ]], dtype=float32)"
      ]
     },
     "execution_count": 23,
     "metadata": {},
     "output_type": "execute_result"
    }
   ],
   "source": [
    "# forecast the entire training dataset to build up state for forecasting\n",
    "train_reshaped = train_scaled[:, 0].reshape(len(train_scaled), 1, 1)\n",
    "lstm_model.predict(train_reshaped, batch_size=1)"
   ]
  },
  {
   "cell_type": "markdown",
   "metadata": {},
   "source": []
  },
  {
   "cell_type": "code",
   "execution_count": 24,
   "metadata": {
    "collapsed": false
   },
   "outputs": [
    {
     "name": "stdout",
     "output_type": "stream",
     "text": [
      "Year=1, Predicted=26.613765, Expected=33.000000\n",
      "Year=2, Predicted=13.742517, Expected=51.000000\n",
      "Year=3, Predicted=20.028113, Expected=58.000000\n",
      "Year=4, Predicted=31.768531, Expected=55.000000\n"
     ]
    }
   ],
   "source": [
    "# walk-forward validation on the test data\n",
    "predictions = list()\n",
    "for i in range(len(test_scaled)):\n",
    "    # make one-step forecast\n",
    "    X, y = test_scaled[i, 0:-1], test_scaled[i, -1]\n",
    "    yhat = forecast_lstm(lstm_model, 1, X)\n",
    "    # invert scaling\n",
    "    yhat = invert_scale(scaler, X, yhat)\n",
    "    ## invert differencing\n",
    "    ##yhat = inverse_difference(raw_values, yhat, len(test_scaled)+1-i)\n",
    "    # store forecast\n",
    "    predictions.append(yhat)\n",
    "    expected = raw_values[i+1]#len(train) + i + 1]\n",
    "    print('Year=%d, Predicted=%f, Expected=%f' % (i+1, yhat, expected))"
   ]
  },
  {
   "cell_type": "markdown",
   "metadata": {},
   "source": []
  },
  {
   "cell_type": "code",
   "execution_count": 137,
   "metadata": {
    "collapsed": false
   },
   "outputs": [
    {
     "name": "stdout",
     "output_type": "stream",
     "text": [
      "Test RMSE: 8.581\n"
     ]
    },
    {
     "data": {
      "image/png": "[encoded data removed]",
      "text/plain": [
       "<matplotlib.figure.Figure at 0x130390588>"
      ]
     },
     "metadata": {},
     "output_type": "display_data"
    }
   ],
   "source": [
    "# report performance\n",
    "rmse = sqrt(mean_squared_error(raw_values[1:], predictions))\n",
    "print('Test RMSE: %.3f' % rmse)\n",
    "# line plot of observed vs predicted\n",
    "pyplot.plot(raw_values[:])\n",
    "pyplot.plot(predictions)\n",
    "pyplot.show()"
   ]
  },
  {
   "cell_type": "code",
   "execution_count": null,
   "metadata": {
    "collapsed": true
   },
   "outputs": [],
   "source": []
  }
 ],
 "metadata": {
  "anaconda-cloud": {},
  "kernelspec": {
   "display_name": "Python [default]",
   "language": "python",
   "name": "python3"
  },
  "language_info": {
   "codemirror_mode": {
    "name": "ipython",
    "version": 3
   },
   "file_extension": ".py",
   "mimetype": "text/x-python",
   "name": "python",
   "nbconvert_exporter": "python",
   "pygments_lexer": "ipython3",
   "version": "3.5.2"
  }
 },
 "nbformat": 4,
 "nbformat_minor": 1
}
