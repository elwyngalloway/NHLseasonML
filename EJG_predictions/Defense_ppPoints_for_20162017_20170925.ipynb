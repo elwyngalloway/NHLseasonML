{
 "cells": [
  {
   "cell_type": "markdown",
   "metadata": {},
   "source": [
    "Let's implement this timestep thing properly. Each timestep is a different lag, not a different player.\n",
    "\n",
    "Jason Brownlee has a more suitable tutorial for me to base this work on. It's here: https://machinelearningmastery.com/multivariate-time-series-forecasting-lstms-keras/\n",
    "\n",
    "I aim to predict points for 2016-2017. I don't have the analysis to dictate which stats I should include for the prediction, so I'll have to start with that.\n",
    "\n",
    "Once I have the stat analysis in hand, I'll only focus on the top players.\n"
   ]
  },
  {
   "cell_type": "code",
   "execution_count": 1,
   "metadata": {
    "collapsed": false
   },
   "outputs": [
    {
     "name": "stderr",
     "output_type": "stream",
     "text": [
      "Using TensorFlow backend.\n"
     ]
    }
   ],
   "source": [
    "from math import sqrt\n",
    "import numpy\n",
    "from matplotlib import pyplot\n",
    "from pandas import read_csv\n",
    "from pandas import DataFrame\n",
    "from pandas import concat\n",
    "from sklearn.preprocessing import MinMaxScaler\n",
    "from sklearn.preprocessing import LabelEncoder\n",
    "from sklearn.metrics import mean_squared_error\n",
    "from keras.models import Sequential\n",
    "from keras.layers import Dense\n",
    "from keras.layers import LSTM\n",
    "from keras.layers import Masking\n",
    "\n",
    "#import csv\n",
    "#import matplotlib.pyplot as plt\n",
    "#import pandas as pd\n",
    "#import math\n",
    "\n",
    "import seaborn as sns\n",
    "\n",
    "%matplotlib inline\n",
    " "
   ]
  },
  {
   "cell_type": "markdown",
   "metadata": {},
   "source": [
    "JB uses a different dataset, but let's try his data format tool for NHL data.\n",
    "\n",
    "Let's keep in mind that this function takes in an array and outputs a dataframe.\n"
   ]
  },
  {
   "cell_type": "markdown",
   "metadata": {},
   "source": [
    "# Stat analysis forwards\n",
    "\n"
   ]
  },
  {
   "cell_type": "code",
   "execution_count": 2,
   "metadata": {
    "collapsed": false
   },
   "outputs": [],
   "source": [
    "# load the data\n",
    "statspd=read_csv('skater_min_summary_withbio.csv')#,header=None)"
   ]
  },
  {
   "cell_type": "code",
   "execution_count": 24,
   "metadata": {
    "collapsed": false,
    "scrolled": true
   },
   "outputs": [
    {
     "name": "stdout",
     "output_type": "stream",
     "text": [
      "Index(['playerId', 'assists', 'faceoffWinPctg', 'gameWinningGoals',\n",
      "       'gamesPlayed', 'goals', 'otGoals', 'penaltyMinutes', 'playerFirstName',\n",
      "       'playerLastName', 'playerName', 'playerPositionCode',\n",
      "       'playerTeamsPlayedFor', 'plusMinus', 'points', 'pointsPerGame',\n",
      "       'ppGoals', 'ppPoints', 'seasonId', 'shGoals', 'shPoints',\n",
      "       'shiftsPerGame', 'shootingPctg', 'shots', 'timeOnIcePerGame',\n",
      "       'playerDraftYear', 'playerDraftOverallPickNo', 'Age'],\n",
      "      dtype='object')\n"
     ]
    }
   ],
   "source": [
    "# we'll keep only the players who have scored more than 20 points in a season:\n",
    "keep = statspd[statspd.ppPoints > 5].playerId.unique()\n",
    "\n",
    "# isolate only stats for our players of interest\n",
    "SKATERstats = statspd[statspd['playerId'].isin(keep)]\n",
    "\n",
    "# we'll only look at defense:\n",
    "keep = SKATERstats[SKATERstats.playerPositionCode.isin(['D'])].playerId.unique()\n",
    "\n",
    "# isolate only stats for our players of interest\n",
    "SKATERstats = statspd[statspd['playerId'].isin(keep)]\n",
    "\n",
    "# prepare to remove some data for now\n",
    "print(SKATERstats.columns)"
   ]
  },
  {
   "cell_type": "code",
   "execution_count": 25,
   "metadata": {
    "collapsed": false
   },
   "outputs": [
    {
     "name": "stderr",
     "output_type": "stream",
     "text": [
      "/Users/Galloway/anaconda/lib/python3.5/site-packages/ipykernel/__main__.py:5: SettingWithCopyWarning: \n",
      "A value is trying to be set on a copy of a slice from a DataFrame\n",
      "\n",
      "See the caveats in the documentation: http://pandas.pydata.org/pandas-docs/stable/indexing.html#indexing-view-versus-copy\n"
     ]
    }
   ],
   "source": [
    "SKATERstats.drop(['playerId', 'faceoffWinPctg', 'gameWinningGoals', 'otGoals', 'penaltyMinutes', 'playerFirstName',\n",
    "       'playerLastName', 'playerName', 'playerPositionCode',\n",
    "       'playerTeamsPlayedFor','pointsPerGame',\n",
    "       'ppGoals', 'seasonId', 'shGoals', 'shPoints',\n",
    "       'shiftsPerGame', 'shootingPctg'], axis=1, inplace=True)"
   ]
  },
  {
   "cell_type": "code",
   "execution_count": 26,
   "metadata": {
    "collapsed": false,
    "scrolled": false
   },
   "outputs": [
    {
     "data": {
      "text/html": [
       "<div>\n",
       "<table border=\"1\" class=\"dataframe\">\n",
       "  <thead>\n",
       "    <tr style=\"text-align: right;\">\n",
       "      <th></th>\n",
       "      <th>assists</th>\n",
       "      <th>gamesPlayed</th>\n",
       "      <th>goals</th>\n",
       "      <th>plusMinus</th>\n",
       "      <th>points</th>\n",
       "      <th>ppPoints</th>\n",
       "      <th>shots</th>\n",
       "      <th>timeOnIcePerGame</th>\n",
       "      <th>playerDraftYear</th>\n",
       "      <th>playerDraftOverallPickNo</th>\n",
       "      <th>Age</th>\n",
       "    </tr>\n",
       "  </thead>\n",
       "  <tbody>\n",
       "    <tr>\n",
       "      <th>7</th>\n",
       "      <td>14</td>\n",
       "      <td>71</td>\n",
       "      <td>5</td>\n",
       "      <td>-22</td>\n",
       "      <td>19</td>\n",
       "      <td>11</td>\n",
       "      <td>130</td>\n",
       "      <td>1229.8169</td>\n",
       "      <td>2012.0</td>\n",
       "      <td>147.0</td>\n",
       "      <td>23</td>\n",
       "    </tr>\n",
       "    <tr>\n",
       "      <th>18</th>\n",
       "      <td>7</td>\n",
       "      <td>52</td>\n",
       "      <td>2</td>\n",
       "      <td>-4</td>\n",
       "      <td>9</td>\n",
       "      <td>0</td>\n",
       "      <td>37</td>\n",
       "      <td>1096.3653</td>\n",
       "      <td>2001.0</td>\n",
       "      <td>221.0</td>\n",
       "      <td>34</td>\n",
       "    </tr>\n",
       "    <tr>\n",
       "      <th>24</th>\n",
       "      <td>29</td>\n",
       "      <td>41</td>\n",
       "      <td>5</td>\n",
       "      <td>2</td>\n",
       "      <td>34</td>\n",
       "      <td>14</td>\n",
       "      <td>122</td>\n",
       "      <td>1531.0731</td>\n",
       "      <td>2005.0</td>\n",
       "      <td>62.0</td>\n",
       "      <td>29</td>\n",
       "    </tr>\n",
       "    <tr>\n",
       "      <th>33</th>\n",
       "      <td>0</td>\n",
       "      <td>3</td>\n",
       "      <td>0</td>\n",
       "      <td>-1</td>\n",
       "      <td>0</td>\n",
       "      <td>0</td>\n",
       "      <td>3</td>\n",
       "      <td>1000.0000</td>\n",
       "      <td>2006.0</td>\n",
       "      <td>63.0</td>\n",
       "      <td>28</td>\n",
       "    </tr>\n",
       "    <tr>\n",
       "      <th>41</th>\n",
       "      <td>0</td>\n",
       "      <td>1</td>\n",
       "      <td>0</td>\n",
       "      <td>0</td>\n",
       "      <td>0</td>\n",
       "      <td>0</td>\n",
       "      <td>1</td>\n",
       "      <td>1288.0000</td>\n",
       "      <td>2005.0</td>\n",
       "      <td>96.0</td>\n",
       "      <td>29</td>\n",
       "    </tr>\n",
       "  </tbody>\n",
       "</table>\n",
       "</div>"
      ],
      "text/plain": [
       "    assists  gamesPlayed  goals  plusMinus  points  ppPoints  shots  \\\n",
       "7        14           71      5        -22      19        11    130   \n",
       "18        7           52      2         -4       9         0     37   \n",
       "24       29           41      5          2      34        14    122   \n",
       "33        0            3      0         -1       0         0      3   \n",
       "41        0            1      0          0       0         0      1   \n",
       "\n",
       "    timeOnIcePerGame  playerDraftYear  playerDraftOverallPickNo  Age  \n",
       "7          1229.8169           2012.0                     147.0   23  \n",
       "18         1096.3653           2001.0                     221.0   34  \n",
       "24         1531.0731           2005.0                      62.0   29  \n",
       "33         1000.0000           2006.0                      63.0   28  \n",
       "41         1288.0000           2005.0                      96.0   29  "
      ]
     },
     "execution_count": 26,
     "metadata": {},
     "output_type": "execute_result"
    }
   ],
   "source": [
    "SKATERstats[:5]"
   ]
  },
  {
   "cell_type": "code",
   "execution_count": 27,
   "metadata": {
    "collapsed": false
   },
   "outputs": [
    {
     "data": {
      "image/png": "[encoded data removed]",
      "text/plain": [
       "<matplotlib.figure.Figure at 0x10b98e160>"
      ]
     },
     "metadata": {},
     "output_type": "display_data"
    }
   ],
   "source": [
    "sns.set(style=\"white\")\n",
    "\n",
    "# Generate a mask for the upper triangle\n",
    "mask = numpy.zeros_like(SKATERstats.corr(method = 'spearman') , dtype=numpy.bool)\n",
    "mask[numpy.triu_indices_from(mask)] = True\n",
    "\n",
    "# Generate a custom diverging colormap\n",
    "cmap = sns.cubehelix_palette(n_colors=12, start=-2.25, rot=-1.3, as_cmap=True)\n",
    "\n",
    "# Draw the heatmap with the mask and correct aspect ratio\n",
    "sns.heatmap(SKATERstats.corr(method = 'spearman') ,annot=True,  mask=mask, cmap=cmap, vmax=1, square=True)\n",
    "\n",
    "pyplot.show()"
   ]
  },
  {
   "cell_type": "markdown",
   "metadata": {},
   "source": [
    "Okay, points is most correlated to (from highest):  ppPoints, points, assists, shots, goals, timeOnIcePerGame, and gamesPlayed. I worry that points and goals are too correlated to points though. By keeping those in the model, we risk over-fitting the data. Though there isn't a strong correlation illustrated here, I expect that draft position in a good indicator of performance early in a career, when little or no previous performance data is available. Age is intuitively related to performance - a typical player's perfornace increases, then deacreases. That leaves the categories as: points, ppPoints (I'm leaving this in as a proxy for ppTOI), shots, timeOnIcePerGame, and gamesPlayed. I'll also leave Age and playerDraftOverallPickNo."
   ]
  },
  {
   "cell_type": "markdown",
   "metadata": {},
   "source": [
    "# Model and Predict\n",
    "\n",
    "I'll train the model on data up to 2015-2016, then use the model to predict the 2016-2017 performance based on previous seasons."
   ]
  },
  {
   "cell_type": "code",
   "execution_count": 7,
   "metadata": {
    "collapsed": true
   },
   "outputs": [],
   "source": [
    "# convert series to supervised learning\n",
    "def series_to_supervised_modified(data, n_in=1, n_out=1, dropnan=True):\n",
    "    n_vars = 1 if type(data) is list else data.shape[1]\n",
    "    df = DataFrame(data)\n",
    "    cols, names = list(), list()\n",
    "    # input sequence (t-n, ... t-1)\n",
    "    \n",
    "    cols.append(df.shift(n_in))\n",
    "    names += [('var%d(t-%d)' % (j+1, n_in)) for j in range(n_vars)]\n",
    "    # forecast sequence (t, t+1, ... t+n)\n",
    "    for i in range(0, n_out):\n",
    "        cols.append(df.shift(-i))\n",
    "        if i == 0:\n",
    "            names += [('var%d(t)' % (j+1)) for j in range(n_vars)]\n",
    "        else:\n",
    "            names += [('var%d(t+%d)' % (j+1, i)) for j in range(n_vars)]\n",
    "    # put it all together\n",
    "    agg = concat(cols, axis=1)\n",
    "    agg.columns = names\n",
    "    # drop rows with NaN values\n",
    "    if dropnan:\n",
    "        agg.dropna(inplace=True)\n",
    "    return agg"
   ]
  },
  {
   "cell_type": "code",
   "execution_count": 8,
   "metadata": {
    "collapsed": true
   },
   "outputs": [],
   "source": [
    "def sortforML_scale_supervised(df ,lags, scaler):\n",
    "    # Input a dataframe, get back a numpy array.\n",
    "    # Lags is an integer denoting the lumber of lags to include for the model.\n",
    "    # Scaler is a... well, scaler\n",
    "    \n",
    "    # This algorithm assumes the dataframe is already sorted by year (latest first).\n",
    "    # Also, make sure the dataframe has the stat you desire to predict as the last column.\n",
    "    \n",
    "    # To match JB's example, the data should exist as (sample,timestep,features).\n",
    "    # Wait a second... he uses all the time sampels as samples, not timesteps. I'll just do what he does!\n",
    "    \n",
    "    \n",
    "    # initiate output array\n",
    "    templag = numpy.zeros((0,len(df.columns)+1))\n",
    "    \n",
    "    for i in range(lags):\n",
    "        \n",
    "        for player in df.playerId.unique():\n",
    "            \n",
    "            # Grab array of a single player\n",
    "            popped = df.loc[df['playerId'] == player].values\n",
    "            \n",
    "            # apply scaler\n",
    "            popscaled = scaler.transform(popped)\n",
    "            \n",
    "            # transform to supervised (takes array and returns df - this enables the next step...)\n",
    "            poptrans = series_to_supervised_modified(popscaled, -(i+1), 1)\n",
    "            # remove all new columns except the new un-lagged one that we're trying to predict\n",
    "            poptrans.drop(poptrans.columns[[9,10,11,12,13,14,15,16]], axis=1, inplace=True) # need to change these values if the number of features changes.\n",
    "            # add players results to this templag\n",
    "            templag = numpy.append(templag,poptrans.values, axis=0)\n",
    "        \n",
    "        if i ==0:\n",
    "            # intitialize the output array\n",
    "            out = numpy.array([templag])\n",
    "        else:\n",
    "            # create a template of the correct dimensions for the output array\n",
    "            templ = numpy.zeros((out.shape[1], out.shape[2])) - 1\n",
    "            # place templag into this template\n",
    "            templ[:len(templag),:] = templag\n",
    "            # append this teamplate into the output array\n",
    "            out = numpy.append(out,[templ],axis=0)\n",
    "            \n",
    "        # initialize the templag for the next lag\n",
    "        templag = numpy.zeros((0,len(df.columns)+1))\n",
    "        \n",
    "    # Transpose out to match the expected shape of the model: samples/timesteps/features\n",
    "    out = numpy.transpose(out,(1,0,2))\n",
    "        \n",
    "    return out"
   ]
  },
  {
   "cell_type": "code",
   "execution_count": 9,
   "metadata": {
    "collapsed": false
   },
   "outputs": [],
   "source": [
    "def sortforML_scale_supervised_prediction(df ,lags, scaler):\n",
    "    #Specifically for testing. Builds a an array to predict from.\n",
    "    \n",
    "    # Input a dataframe, get back a numpy array.\n",
    "    # Lags is an integer denoting the lumber of lags to include for the model.\n",
    "    # Scaler is a... well, scaler\n",
    "    \n",
    "    # This algorithm assumes the dataframe is already sorted by year (latest first).\n",
    "    # Also, make sure the dataframe has the stat you desire to predict as the last column.\n",
    "    \n",
    "    # To match JB's example, the data should exist as (sample,timestep,features).\n",
    "    # Wait a second... he uses all the time sampels as samples, not timesteps. I'll just do what he does!\n",
    "    \n",
    "    \n",
    "    # initiate output array\n",
    "    templag = numpy.zeros((0,len(df.columns)+1))\n",
    "    latestseason = max(df.seasonId)\n",
    "    \n",
    "    #extract years for reference\n",
    "    yeartempl = numpy.zeros((len(df.seasonId.unique()),len(df.columns)))\n",
    "    for i in range(len(yeartempl)):\n",
    "        yeartempl[i,df.columns.get_loc('seasonId')] = latestseason - i*10001\n",
    "    yearscale = scaler.transform(yeartempl)\n",
    "    yearscale = yearscale[:,df.columns.get_loc('seasonId')]\n",
    "            \n",
    "    \n",
    "    for i in range(lags):\n",
    "        \n",
    "        for player in df.playerId.unique():\n",
    "            \n",
    "            # Grab array of a single player\n",
    "            popped = df.loc[df['playerId'] == player].values\n",
    "            \n",
    "            # apply scaler\n",
    "            popscaled = scaler.transform(popped)\n",
    "            \n",
    "            # transform to supervised (takes array and returns df - this enables the next step...)\n",
    "            poptrans = series_to_supervised_modified(popscaled, -(i+1) , 1)\n",
    "            \n",
    "            # remove all new columns except the new un-lagged one that we're trying to predict\n",
    "            poptrans.drop(poptrans.columns[[9,10,11,12,13,14,15,16]], axis=1, inplace=True) # need to change these values if the number of features changes.\n",
    "            \n",
    "            # keep only the appropriate year\n",
    "            poptrans = poptrans.loc[poptrans[str(list(poptrans)[3])].isin([yearscale[i+1]])] # index of list may change for other applications\n",
    "            \n",
    "            # add players results to this templag\n",
    "            templag = numpy.append(templag,poptrans.values, axis=0)\n",
    "        \n",
    "        if i ==0:\n",
    "            # intitialize the output array\n",
    "            out = numpy.array([templag])\n",
    "        else:\n",
    "            # create a template of the correct dimensions for the output array\n",
    "            templ = numpy.zeros((out.shape[1], out.shape[2])) - 1\n",
    "            # place templag into this template\n",
    "            templ[:len(templag),:] = templag\n",
    "            # append this teamplate into the output array\n",
    "            out = numpy.append(out,[templ],axis=0)\n",
    "            \n",
    "        # initialize the templag for the next lag\n",
    "        templag = numpy.zeros((0,len(df.columns)+1))\n",
    "        \n",
    "    # Transpose out to match the expected shape of the model: samples/timesteps/features\n",
    "    out = numpy.transpose(out,(1,0,2))\n",
    "        \n",
    "    return out"
   ]
  },
  {
   "cell_type": "code",
   "execution_count": 10,
   "metadata": {
    "collapsed": true
   },
   "outputs": [],
   "source": [
    "def sortforML_scale_supervised_prediction_for_realz(df ,lags, scaler):\n",
    "    #Specifically for testing. Builds a an array to predict from.\n",
    "    \n",
    "    # Input a dataframe, get back a numpy array.\n",
    "    # Lags is an integer denoting the lumber of lags to include for the model.\n",
    "    # Scaler is a... well, scaler\n",
    "    \n",
    "    # This algorithm assumes the dataframe is already sorted by year (latest first).\n",
    "    # Also, make sure the dataframe has the stat you desire to predict as the last column.\n",
    "    \n",
    "    # To match JB's example, the data should exist as (sample,timestep,features).\n",
    "    # Wait a second... he uses all the time sampels as samples, not timesteps. I'll just do what he does!\n",
    "    \n",
    "    \n",
    "    # initiate output array\n",
    "    templag = numpy.zeros((0,len(df.columns)))\n",
    "    latestseason = max(df.seasonId)\n",
    "    \n",
    "    #extract years for reference\n",
    "    yeartempl = numpy.zeros((len(df.seasonId.unique()),len(df.columns)))\n",
    "    for i in range(len(yeartempl)):\n",
    "        yeartempl[i,df.columns.get_loc('seasonId')] = latestseason - i*10001\n",
    "    yearscale = scaler.transform(yeartempl)\n",
    "    yearscale = yearscale[:,df.columns.get_loc('seasonId')]\n",
    "            \n",
    "    \n",
    "    for i in range(lags):\n",
    "        \n",
    "        for player in df.playerId.unique():\n",
    "            \n",
    "            # Grab array of a single player\n",
    "            popped = df.loc[df['playerId'] == player].values\n",
    "            \n",
    "            # apply scaler\n",
    "            popscaled = scaler.transform(popped)\n",
    "            \n",
    "            # transform to supervised (takes array and returns df - this enables the next step...)\n",
    "            poptrans = series_to_supervised_modified(popscaled, 0, 0)\n",
    "            \n",
    "            # keep only the appropriate year\n",
    "            poptrans = poptrans.loc[poptrans[str(list(poptrans)[3])].isin([yearscale[i]])] # index of list may change for other applications\n",
    "            \n",
    "            # add players results to this templag\n",
    "            templag = numpy.append(templag,poptrans.values, axis=0)\n",
    "        \n",
    "        if i ==0:\n",
    "            # intitialize the output array\n",
    "            out = numpy.array([templag])\n",
    "        else:\n",
    "            # create a template of the correct dimensions for the output array\n",
    "            templ = numpy.zeros((out.shape[1], out.shape[2])) - 1\n",
    "            # place templag into this template\n",
    "            templ[:len(templag),:] = templag\n",
    "            # append this teamplate into the output array\n",
    "            out = numpy.append(out,[templ],axis=0)\n",
    "            \n",
    "        # initialize the templag for the next lag\n",
    "        templag = numpy.zeros((0,len(df.columns)))\n",
    "        \n",
    "    # Transpose out to match the expected shape of the model: samples/timesteps/features\n",
    "    out = numpy.transpose(out,(1,0,2))\n",
    "        \n",
    "    return out"
   ]
  },
  {
   "cell_type": "code",
   "execution_count": 28,
   "metadata": {
    "collapsed": false
   },
   "outputs": [
    {
     "name": "stderr",
     "output_type": "stream",
     "text": [
      "/Users/Galloway/anaconda/lib/python3.5/site-packages/ipykernel/__main__.py:19: SettingWithCopyWarning: \n",
      "A value is trying to be set on a copy of a slice from a DataFrame\n",
      "\n",
      "See the caveats in the documentation: http://pandas.pydata.org/pandas-docs/stable/indexing.html#indexing-view-versus-copy\n"
     ]
    }
   ],
   "source": [
    "# we'll keep only the players who have scored more than 20 points in a season:\n",
    "keep = statspd[statspd.ppPoints > 5].playerId.unique()\n",
    "\n",
    "# isolate only stats for our players of interest\n",
    "SKATERstats = statspd[statspd['playerId'].isin(keep)]\n",
    "\n",
    "# we'll only look at defense:\n",
    "keep = SKATERstats[SKATERstats.playerPositionCode.isin(['D'])].playerId.unique()\n",
    "\n",
    "# isolate only stats for our players of interest\n",
    "SKATERstats = statspd[statspd['playerId'].isin(keep)]\n",
    "\n",
    "# drop categories that aren't of interest:\n",
    "SKATERstats.drop(['assists', 'faceoffWinPctg', 'gameWinningGoals', 'goals', 'otGoals', 'penaltyMinutes', 'playerFirstName',\n",
    "       'playerLastName', 'playerName', 'playerPositionCode',\n",
    "       'playerTeamsPlayedFor', 'plusMinus', 'pointsPerGame',\n",
    "       'ppGoals', 'shGoals', 'shPoints',\n",
    "       'shiftsPerGame', 'shootingPctg',\n",
    "       'playerDraftYear'], axis=1, inplace=True)\n",
    "\n",
    "cols = list(SKATERstats.columns.values) #Make a list of all of the columns in the df\n",
    "cols.pop(cols.index('ppPoints')) #Remove Goals from list\n",
    "SKATERstats = SKATERstats[cols+['ppPoints']] #Create new dataframe with columns in the order you want\n",
    "\n",
    "# Some players weren't drafted. Replace their NaN value with 300. (Max draft value found was 288).\n",
    "SKATERstats.playerDraftOverallPickNo.fillna(300, inplace=True)\n",
    "\n",
    "# Only predict for those players active in 20162017.\n",
    "# isolate those players with a record for the year\n",
    "keep = SKATERstats[SKATERstats.seasonId == 20162017].playerId.unique()\n",
    "# keep those players who have stats for that year\n",
    "SKATERpredict = SKATERstats[SKATERstats['playerId'].isin(keep)]"
   ]
  },
  {
   "cell_type": "code",
   "execution_count": 29,
   "metadata": {
    "collapsed": false,
    "scrolled": false
   },
   "outputs": [
    {
     "data": {
      "text/html": [
       "<div>\n",
       "<table border=\"1\" class=\"dataframe\">\n",
       "  <thead>\n",
       "    <tr style=\"text-align: right;\">\n",
       "      <th></th>\n",
       "      <th>playerId</th>\n",
       "      <th>gamesPlayed</th>\n",
       "      <th>points</th>\n",
       "      <th>seasonId</th>\n",
       "      <th>shots</th>\n",
       "      <th>timeOnIcePerGame</th>\n",
       "      <th>playerDraftOverallPickNo</th>\n",
       "      <th>Age</th>\n",
       "      <th>ppPoints</th>\n",
       "    </tr>\n",
       "  </thead>\n",
       "  <tbody>\n",
       "    <tr>\n",
       "      <th>7</th>\n",
       "      <td>8477018</td>\n",
       "      <td>71</td>\n",
       "      <td>19</td>\n",
       "      <td>20162017</td>\n",
       "      <td>130</td>\n",
       "      <td>1229.8169</td>\n",
       "      <td>147.0</td>\n",
       "      <td>23</td>\n",
       "      <td>11</td>\n",
       "    </tr>\n",
       "    <tr>\n",
       "      <th>18</th>\n",
       "      <td>8469665</td>\n",
       "      <td>52</td>\n",
       "      <td>9</td>\n",
       "      <td>20162017</td>\n",
       "      <td>37</td>\n",
       "      <td>1096.3653</td>\n",
       "      <td>221.0</td>\n",
       "      <td>34</td>\n",
       "      <td>0</td>\n",
       "    </tr>\n",
       "    <tr>\n",
       "      <th>24</th>\n",
       "      <td>8471724</td>\n",
       "      <td>41</td>\n",
       "      <td>34</td>\n",
       "      <td>20162017</td>\n",
       "      <td>122</td>\n",
       "      <td>1531.0731</td>\n",
       "      <td>62.0</td>\n",
       "      <td>29</td>\n",
       "      <td>14</td>\n",
       "    </tr>\n",
       "    <tr>\n",
       "      <th>33</th>\n",
       "      <td>8473571</td>\n",
       "      <td>3</td>\n",
       "      <td>0</td>\n",
       "      <td>20162017</td>\n",
       "      <td>3</td>\n",
       "      <td>1000.0000</td>\n",
       "      <td>63.0</td>\n",
       "      <td>28</td>\n",
       "      <td>0</td>\n",
       "    </tr>\n",
       "    <tr>\n",
       "      <th>41</th>\n",
       "      <td>8471761</td>\n",
       "      <td>1</td>\n",
       "      <td>0</td>\n",
       "      <td>20162017</td>\n",
       "      <td>1</td>\n",
       "      <td>1288.0000</td>\n",
       "      <td>96.0</td>\n",
       "      <td>29</td>\n",
       "      <td>0</td>\n",
       "    </tr>\n",
       "  </tbody>\n",
       "</table>\n",
       "</div>"
      ],
      "text/plain": [
       "    playerId  gamesPlayed  points  seasonId  shots  timeOnIcePerGame  \\\n",
       "7    8477018           71      19  20162017    130         1229.8169   \n",
       "18   8469665           52       9  20162017     37         1096.3653   \n",
       "24   8471724           41      34  20162017    122         1531.0731   \n",
       "33   8473571            3       0  20162017      3         1000.0000   \n",
       "41   8471761            1       0  20162017      1         1288.0000   \n",
       "\n",
       "    playerDraftOverallPickNo  Age  ppPoints  \n",
       "7                      147.0   23        11  \n",
       "18                     221.0   34         0  \n",
       "24                      62.0   29        14  \n",
       "33                      63.0   28         0  \n",
       "41                      96.0   29         0  "
      ]
     },
     "execution_count": 29,
     "metadata": {},
     "output_type": "execute_result"
    }
   ],
   "source": [
    "SKATERpredict[:5]"
   ]
  },
  {
   "cell_type": "markdown",
   "metadata": {},
   "source": [
    "Let's generate a scalar for these data:"
   ]
  },
  {
   "cell_type": "code",
   "execution_count": 30,
   "metadata": {
    "collapsed": false
   },
   "outputs": [],
   "source": [
    "scaler = MinMaxScaler(feature_range=(0, 1)) # JB used -1,1 when data was stationary\n",
    "scaler = scaler.fit(SKATERstats.values)"
   ]
  },
  {
   "cell_type": "markdown",
   "metadata": {},
   "source": [
    "Generate the test dataset:"
   ]
  },
  {
   "cell_type": "code",
   "execution_count": 31,
   "metadata": {
    "collapsed": false,
    "scrolled": true
   },
   "outputs": [],
   "source": [
    "model_lag = 3\n",
    "\n",
    "Sstats3D = sortforML_scale_supervised(SKATERpredict.loc[SKATERpredict['seasonId'] != 20162017], model_lag, scaler)\n",
    "Stest3D = sortforML_scale_supervised_prediction(SKATERpredict,model_lag,scaler)\n",
    "\n",
    "# creates an array with a slightly different shape than normal:\n",
    "Spredict3D = sortforML_scale_supervised_prediction_for_realz(SKATERpredict,model_lag,scaler) "
   ]
  },
  {
   "cell_type": "code",
   "execution_count": 32,
   "metadata": {
    "collapsed": false
   },
   "outputs": [
    {
     "name": "stdout",
     "output_type": "stream",
     "text": [
      "(744, 3, 10) (119, 3, 10) (123, 3, 9)\n"
     ]
    }
   ],
   "source": [
    "print( Sstats3D.shape, Stest3D.shape, Spredict3D.shape)"
   ]
  },
  {
   "cell_type": "markdown",
   "metadata": {},
   "source": [
    "Notice that the shape of the prediction array is slightly different. This slots right into test_X It's really just the stats from the last (model_lag) number of years."
   ]
  },
  {
   "cell_type": "markdown",
   "metadata": {},
   "source": [
    "I will split the data into training and test data. Let's say the latest two seasons are the test!"
   ]
  },
  {
   "cell_type": "code",
   "execution_count": 49,
   "metadata": {
    "collapsed": false
   },
   "outputs": [
    {
     "name": "stdout",
     "output_type": "stream",
     "text": [
      "(744, 3, 9) (744, 3) (119, 3, 9) (119, 3) (123, 3, 9)\n"
     ]
    }
   ],
   "source": [
    "# split into train and test sets\n",
    "train = Sstats3D\n",
    "test = Stest3D\n",
    "predict_X = Spredict3D\n",
    "# split into input and outputs\n",
    "train_X, train_y = train[:, :, :-1], train[:, :, -1]\n",
    "test_X, test_y = test[:, :, :-1], test[:, :, -1]\n",
    "# reshape input to be 3D [samples, timesteps, features]\n",
    "#train_X = train_X.reshape((train_X.shape[0], 1, train_X.shape[1]))\n",
    "#test_X = test_X.reshape((test_X.shape[0], 1, test_X.shape[1]))\n",
    "print(train_X.shape, train_y.shape, test_X.shape, test_y.shape, predict_X.shape)"
   ]
  },
  {
   "cell_type": "markdown",
   "metadata": {},
   "source": [
    "Designing a network"
   ]
  },
  {
   "cell_type": "code",
   "execution_count": 50,
   "metadata": {
    "collapsed": false
   },
   "outputs": [
    {
     "data": {
      "image/png": "[encoded data removed]",
      "text/plain": [
       "<matplotlib.figure.Figure at 0x126ac69e8>"
      ]
     },
     "metadata": {},
     "output_type": "display_data"
    }
   ],
   "source": [
    "# design network\n",
    "model = Sequential()\n",
    "model.add(Masking(mask_value=-1, input_shape=(train_X.shape[1], train_X.shape[2])))\n",
    "model.add(LSTM(300))\n",
    "model.add(Dense(train_X.shape[1]))\n",
    "model.compile(loss='mae', optimizer='adam')\n",
    "# fit network\n",
    "history = model.fit(train_X, train_y, epochs=300, batch_size=744, validation_data=(test_X, test_y),verbose=0, shuffle=False) \n",
    "\n",
    "# plot history\n",
    "pyplot.plot(history.history['loss'], label='train')\n",
    "pyplot.plot(history.history['val_loss'], label='test')\n",
    "pyplot.legend()\n",
    "pyplot.show()"
   ]
  },
  {
   "cell_type": "markdown",
   "metadata": {},
   "source": [
    "Make a prediction with the Test set to evaluate the performance"
   ]
  },
  {
   "cell_type": "code",
   "execution_count": 51,
   "metadata": {
    "collapsed": false
   },
   "outputs": [
    {
     "name": "stdout",
     "output_type": "stream",
     "text": [
      "yhat.shape =  (119, 3)\n",
      "y.shape =  (119, 3)\n"
     ]
    }
   ],
   "source": [
    "# make a prediction\n",
    "yhat = model.predict(test_X)\n",
    "\n",
    "print(\"yhat.shape = \",yhat.shape)\n",
    "\n",
    "# make yhat dimension match test_X\n",
    "yhat = numpy.expand_dims(yhat,axis=2)\n",
    "\n",
    "# invert scaling for forecast\n",
    "inv_yhat = numpy.concatenate((test_X[:,:,:-1],yhat), axis=2)\n",
    "for i in range(inv_yhat.shape[1]):\n",
    "    inv_yhat[:,i,:] = scaler.inverse_transform(inv_yhat[:,i,:])\n",
    "results1 = inv_yhat[:,:,:]\n",
    "inv_yhat = inv_yhat[:,:,-1]\n",
    "\n",
    "# invert scaling for actual\n",
    "\n",
    "# make y dimension match test_X\n",
    "print(\"y.shape = \",test_y.shape)\n",
    "\n",
    "test_y = numpy.expand_dims(test_y,axis=2)\n",
    "\n",
    "inv_y = numpy.concatenate((test_X[:, :, :-1],test_y), axis=2)\n",
    "for i in range(inv_y.shape[1]):\n",
    "    inv_y[:,i,:] = scaler.inverse_transform(inv_y[:,i,:])\n",
    "inv_y = inv_y[:,:,-1]"
   ]
  },
  {
   "cell_type": "code",
   "execution_count": 52,
   "metadata": {
    "collapsed": false
   },
   "outputs": [
    {
     "name": "stdout",
     "output_type": "stream",
     "text": [
      "Test RMSE: 5.522\n"
     ]
    }
   ],
   "source": [
    "# calculate RMSE\n",
    "rmse = sqrt(mean_squared_error(inv_y, inv_yhat))\n",
    "print('Test RMSE: %.3f' % rmse)"
   ]
  },
  {
   "cell_type": "code",
   "execution_count": 53,
   "metadata": {
    "collapsed": false
   },
   "outputs": [
    {
     "name": "stdout",
     "output_type": "stream",
     "text": [
      "Test RMSE: 4.942\n"
     ]
    }
   ],
   "source": [
    "# calculate RMSE\n",
    "rmse = sqrt(mean_squared_error(inv_y[:,0], inv_yhat[:,0]))\n",
    "print('Test RMSE: %.3f' % rmse)"
   ]
  },
  {
   "cell_type": "code",
   "execution_count": 54,
   "metadata": {
    "collapsed": false
   },
   "outputs": [
    {
     "data": {
      "image/png": "[encoded data removed]",
      "text/plain": [
       "<matplotlib.figure.Figure at 0x11b23c198>"
      ]
     },
     "metadata": {},
     "output_type": "display_data"
    }
   ],
   "source": [
    "fig1 = pyplot.figure(figsize=(16,5))\n",
    "az = fig1.add_subplot(1,3,3)\n",
    "az.scatter(inv_y[:,0],inv_yhat[:,0],c=\"b\")\n",
    "#az.scatter(inv_y[:,1],inv_yhat[:,1],c=\"r\")\n",
    "#az.scatter(inv_y[:,2],inv_yhat[:,2],c=\"g\")\n",
    "az.plot([0,50,120],[0,50,120])\n",
    "pyplot.ylim(-10,40)\n",
    "pyplot.xlim(-10,40)\n",
    "pyplot.xlabel('Actual Results')\n",
    "pyplot.ylabel('Predicted Results')\n",
    "pyplot.title('Actual vs. Predicted', fontsize=16)\n",
    "pyplot.grid(True)"
   ]
  },
  {
   "cell_type": "code",
   "execution_count": null,
   "metadata": {
    "collapsed": true
   },
   "outputs": [],
   "source": []
  },
  {
   "cell_type": "code",
   "execution_count": null,
   "metadata": {
    "collapsed": true
   },
   "outputs": [],
   "source": []
  },
  {
   "cell_type": "code",
   "execution_count": null,
   "metadata": {
    "collapsed": true
   },
   "outputs": [],
   "source": []
  },
  {
   "cell_type": "code",
   "execution_count": null,
   "metadata": {
    "collapsed": true
   },
   "outputs": [],
   "source": []
  },
  {
   "cell_type": "code",
   "execution_count": null,
   "metadata": {
    "collapsed": true
   },
   "outputs": [],
   "source": []
  },
  {
   "cell_type": "markdown",
   "metadata": {},
   "source": [
    "Now, make a prediction using the predict dataset."
   ]
  },
  {
   "cell_type": "code",
   "execution_count": 55,
   "metadata": {
    "collapsed": false
   },
   "outputs": [],
   "source": [
    "# make a prediction\n",
    "yhat = model.predict(predict_X)\n",
    "\n",
    "# make yhat dimension match test_X\n",
    "yhat = numpy.expand_dims(yhat,axis=2)\n",
    "\n",
    "# invert scaling for forecast\n",
    "inv_yhat = numpy.concatenate((predict_X[:,:,:-1],yhat), axis=2)\n",
    "for i in range(inv_yhat.shape[1]):\n",
    "    inv_yhat[:,i,:] = scaler.inverse_transform(inv_yhat[:,i,:])\n",
    "#inv_yhat = inv_yhat[:,:,-1]"
   ]
  },
  {
   "cell_type": "code",
   "execution_count": 56,
   "metadata": {
    "collapsed": false
   },
   "outputs": [
    {
     "data": {
      "text/plain": [
       "array([[8477018,       8],\n",
       "       [8469665,       0],\n",
       "       [8471724,      16],\n",
       "       [8473571,       3],\n",
       "       [8471761,       4],\n",
       "       [8471677,       3],\n",
       "       [8474618,       1],\n",
       "       [8474581,      12],\n",
       "       [8476854,       6],\n",
       "       [8474602,      16]])"
      ]
     },
     "execution_count": 56,
     "metadata": {},
     "output_type": "execute_result"
    }
   ],
   "source": [
    "prediction=numpy.array([inv_yhat[:,0,0],inv_yhat[:,0,-1]]).astype(int).T\n",
    "prediction.shape\n",
    "#.astype(int)\n",
    "\n",
    "prediction[:10]"
   ]
  },
  {
   "cell_type": "code",
   "execution_count": 57,
   "metadata": {
    "collapsed": true
   },
   "outputs": [],
   "source": [
    "numpy.savetxt(\"20162017_defense_ppPoints_forecast_ML_20170925.csv\", prediction, delimiter=\",\")"
   ]
  },
  {
   "cell_type": "code",
   "execution_count": null,
   "metadata": {
    "collapsed": true
   },
   "outputs": [],
   "source": []
  }
 ],
 "metadata": {
  "anaconda-cloud": {},
  "kernelspec": {
   "display_name": "Python [default]",
   "language": "python",
   "name": "python3"
  },
  "language_info": {
   "codemirror_mode": {
    "name": "ipython",
    "version": 3
   },
   "file_extension": ".py",
   "mimetype": "text/x-python",
   "name": "python",
   "nbconvert_exporter": "python",
   "pygments_lexer": "ipython3",
   "version": "3.5.2"
  }
 },
 "nbformat": 4,
 "nbformat_minor": 1
}
