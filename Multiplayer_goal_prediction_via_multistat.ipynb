{
 "cells": [
  {
   "cell_type": "markdown",
   "metadata": {},
   "source": [
    "I'm starting again from scratch. Jason Brownlee has a more suitable tutorial for me to base this work on. It's here: https://machinelearningmastery.com/multivariate-time-series-forecasting-lstms-keras/\n",
    "\n",
    "He's using a 2D dataset, not a 3D one. I haven't come across a 3D one yet.\n"
   ]
  },
  {
   "cell_type": "code",
   "execution_count": 6,
   "metadata": {
    "collapsed": false
   },
   "outputs": [
    {
     "name": "stderr",
     "output_type": "stream",
     "text": [
      "Using TensorFlow backend.\n"
     ]
    }
   ],
   "source": [
    "from math import sqrt\n",
    "import numpy\n",
    "from matplotlib import pyplot\n",
    "from pandas import read_csv\n",
    "from pandas import DataFrame\n",
    "from pandas import concat\n",
    "from sklearn.preprocessing import MinMaxScaler\n",
    "from sklearn.preprocessing import LabelEncoder\n",
    "from sklearn.metrics import mean_squared_error\n",
    "from keras.models import Sequential\n",
    "from keras.layers import Dense\n",
    "from keras.layers import LSTM\n",
    "from keras.layers import Masking\n",
    " "
   ]
  },
  {
   "cell_type": "markdown",
   "metadata": {},
   "source": [
    "JB uses a different dataset, but let's try his data format tool for NHL data.\n",
    "\n",
    "Let's keep in mind that this function takes in an array and outputs a dataframe.\n"
   ]
  },
  {
   "cell_type": "code",
   "execution_count": 7,
   "metadata": {
    "collapsed": true
   },
   "outputs": [],
   "source": [
    "# convert series to supervised learning\n",
    "def series_to_supervised(data, n_in=1, n_out=1, dropnan=True):\n",
    "    n_vars = 1 if type(data) is list else data.shape[1]\n",
    "    df = DataFrame(data)\n",
    "    cols, names = list(), list()\n",
    "    # input sequence (t-n, ... t-1)\n",
    "    for i in range(n_in, 0, -1):\n",
    "        cols.append(df.shift(i))\n",
    "        names += [('var%d(t-%d)' % (j+1, i)) for j in range(n_vars)]\n",
    "    # forecast sequence (t, t+1, ... t+n)\n",
    "    for i in range(0, n_out):\n",
    "        cols.append(df.shift(-i))\n",
    "        if i == 0:\n",
    "            names += [('var%d(t)' % (j+1)) for j in range(n_vars)]\n",
    "        else:\n",
    "            names += [('var%d(t+%d)' % (j+1, i)) for j in range(n_vars)]\n",
    "    # put it all together\n",
    "    agg = concat(cols, axis=1)\n",
    "    agg.columns = names\n",
    "    # drop rows with NaN values\n",
    "    if dropnan:\n",
    "        agg.dropna(inplace=True)\n",
    "    return agg"
   ]
  },
  {
   "cell_type": "markdown",
   "metadata": {},
   "source": [
    "Let's load the NHL data.\n",
    "\n",
    "Then, grab a few guys stats. Extract from the stats dataframe. Alex Ovechkin, whose player id is 8471214, Matt Duchene (8471707), Pat Maroon (8474034), and The Tank (8475765)."
   ]
  },
  {
   "cell_type": "code",
   "execution_count": 8,
   "metadata": {
    "collapsed": false
   },
   "outputs": [
    {
     "name": "stdout",
     "output_type": "stream",
     "text": [
      "Index(['assists', 'faceoffWinPctg', 'gameWinningGoals', 'gamesPlayed', 'goals',\n",
      "       'otGoals', 'penaltyMinutes', 'playerFirstName', 'playerId',\n",
      "       'playerLastName', 'playerName', 'playerPositionCode',\n",
      "       'playerTeamsPlayedFor', 'plusMinus', 'points', 'pointsPerGame',\n",
      "       'ppGoals', 'ppPoints', 'seasonId', 'shGoals', 'shPoints',\n",
      "       'shiftsPerGame', 'shootingPctg', 'shots', 'timeOnIcePerGame'],\n",
      "      dtype='object')\n"
     ]
    }
   ],
   "source": [
    "# load the data\n",
    "statspd=read_csv('s_skater_summary.csv')#,header=None)\n",
    "\n",
    "# isolate only stats for our players of interest\n",
    "SKATERstats = statspd[statspd['playerId'].isin([8471214, 8471707, 8474034, 8475765])]\n",
    "\n",
    "# prepare to remove some data for now\n",
    "print(SKATERstats.columns)"
   ]
  },
  {
   "cell_type": "code",
   "execution_count": 9,
   "metadata": {
    "collapsed": false
   },
   "outputs": [
    {
     "name": "stderr",
     "output_type": "stream",
     "text": [
      "/Users/Galloway/anaconda/lib/python3.5/site-packages/ipykernel/__main__.py:9: SettingWithCopyWarning: \n",
      "A value is trying to be set on a copy of a slice from a DataFrame\n",
      "\n",
      "See the caveats in the documentation: http://pandas.pydata.org/pandas-docs/stable/indexing.html#indexing-view-versus-copy\n"
     ]
    }
   ],
   "source": [
    "# I kept those stats that had the strongest correlation to Goals, as determined in the\n",
    "# Basic_stats_analysis notebook: Goals, Assists, PPPoints, SHT%, Shots. I also kept Games Played\n",
    "\n",
    "SKATERstats.drop(['faceoffWinPctg', 'gameWinningGoals',\n",
    "       'otGoals', 'penaltyMinutes', 'playerFirstName',\n",
    "       'playerLastName', 'playerName', 'playerPositionCode',\n",
    "       'playerTeamsPlayedFor', 'plusMinus', 'points', 'pointsPerGame',\n",
    "       'ppGoals', 'shGoals', 'shPoints',\n",
    "       'shiftsPerGame', 'timeOnIcePerGame'], axis=1, inplace=True)"
   ]
  },
  {
   "cell_type": "markdown",
   "metadata": {},
   "source": [
    "Before we continue, rearrange the columns so that the stat we'd like to predict is the last column (goals in our case). This follows the convention found in the flow this notebook is based on.\n"
   ]
  },
  {
   "cell_type": "code",
   "execution_count": 10,
   "metadata": {
    "collapsed": false,
    "scrolled": true
   },
   "outputs": [
    {
     "data": {
      "text/html": [
       "<div>\n",
       "<table border=\"1\" class=\"dataframe\">\n",
       "  <thead>\n",
       "    <tr style=\"text-align: right;\">\n",
       "      <th></th>\n",
       "      <th>assists</th>\n",
       "      <th>gamesPlayed</th>\n",
       "      <th>playerId</th>\n",
       "      <th>ppPoints</th>\n",
       "      <th>seasonId</th>\n",
       "      <th>shootingPctg</th>\n",
       "      <th>shots</th>\n",
       "      <th>goals</th>\n",
       "    </tr>\n",
       "  </thead>\n",
       "  <tbody>\n",
       "    <tr>\n",
       "      <th>1</th>\n",
       "      <td>36</td>\n",
       "      <td>82</td>\n",
       "      <td>8475765</td>\n",
       "      <td>22</td>\n",
       "      <td>20162017</td>\n",
       "      <td>0.1363</td>\n",
       "      <td>286</td>\n",
       "      <td>39</td>\n",
       "    </tr>\n",
       "    <tr>\n",
       "      <th>9</th>\n",
       "      <td>15</td>\n",
       "      <td>81</td>\n",
       "      <td>8474034</td>\n",
       "      <td>6</td>\n",
       "      <td>20162017</td>\n",
       "      <td>0.1516</td>\n",
       "      <td>178</td>\n",
       "      <td>27</td>\n",
       "    </tr>\n",
       "    <tr>\n",
       "      <th>15</th>\n",
       "      <td>18</td>\n",
       "      <td>70</td>\n",
       "      <td>8471707</td>\n",
       "      <td>13</td>\n",
       "      <td>20162017</td>\n",
       "      <td>0.1138</td>\n",
       "      <td>202</td>\n",
       "      <td>23</td>\n",
       "    </tr>\n",
       "    <tr>\n",
       "      <th>862</th>\n",
       "      <td>36</td>\n",
       "      <td>82</td>\n",
       "      <td>8471214</td>\n",
       "      <td>26</td>\n",
       "      <td>20162017</td>\n",
       "      <td>0.1054</td>\n",
       "      <td>313</td>\n",
       "      <td>33</td>\n",
       "    </tr>\n",
       "    <tr>\n",
       "      <th>910</th>\n",
       "      <td>21</td>\n",
       "      <td>79</td>\n",
       "      <td>8471214</td>\n",
       "      <td>24</td>\n",
       "      <td>20152016</td>\n",
       "      <td>0.1256</td>\n",
       "      <td>398</td>\n",
       "      <td>50</td>\n",
       "    </tr>\n",
       "    <tr>\n",
       "      <th>956</th>\n",
       "      <td>27</td>\n",
       "      <td>82</td>\n",
       "      <td>8471707</td>\n",
       "      <td>14</td>\n",
       "      <td>20152016</td>\n",
       "      <td>0.1156</td>\n",
       "      <td>268</td>\n",
       "      <td>31</td>\n",
       "    </tr>\n",
       "    <tr>\n",
       "      <th>1137</th>\n",
       "      <td>34</td>\n",
       "      <td>80</td>\n",
       "      <td>8475765</td>\n",
       "      <td>24</td>\n",
       "      <td>20152016</td>\n",
       "      <td>0.1369</td>\n",
       "      <td>292</td>\n",
       "      <td>40</td>\n",
       "    </tr>\n",
       "    <tr>\n",
       "      <th>1763</th>\n",
       "      <td>15</td>\n",
       "      <td>72</td>\n",
       "      <td>8474034</td>\n",
       "      <td>8</td>\n",
       "      <td>20152016</td>\n",
       "      <td>0.1153</td>\n",
       "      <td>104</td>\n",
       "      <td>12</td>\n",
       "    </tr>\n",
       "    <tr>\n",
       "      <th>2277</th>\n",
       "      <td>25</td>\n",
       "      <td>71</td>\n",
       "      <td>8474034</td>\n",
       "      <td>7</td>\n",
       "      <td>20142015</td>\n",
       "      <td>0.0750</td>\n",
       "      <td>120</td>\n",
       "      <td>9</td>\n",
       "    </tr>\n",
       "    <tr>\n",
       "      <th>2464</th>\n",
       "      <td>36</td>\n",
       "      <td>77</td>\n",
       "      <td>8475765</td>\n",
       "      <td>18</td>\n",
       "      <td>20142015</td>\n",
       "      <td>0.1401</td>\n",
       "      <td>264</td>\n",
       "      <td>37</td>\n",
       "    </tr>\n",
       "    <tr>\n",
       "      <th>2472</th>\n",
       "      <td>28</td>\n",
       "      <td>81</td>\n",
       "      <td>8471214</td>\n",
       "      <td>34</td>\n",
       "      <td>20142015</td>\n",
       "      <td>0.1341</td>\n",
       "      <td>395</td>\n",
       "      <td>53</td>\n",
       "    </tr>\n",
       "    <tr>\n",
       "      <th>2613</th>\n",
       "      <td>14</td>\n",
       "      <td>67</td>\n",
       "      <td>8471707</td>\n",
       "      <td>4</td>\n",
       "      <td>20142015</td>\n",
       "      <td>0.1040</td>\n",
       "      <td>221</td>\n",
       "      <td>23</td>\n",
       "    </tr>\n",
       "    <tr>\n",
       "      <th>2690</th>\n",
       "      <td>28</td>\n",
       "      <td>78</td>\n",
       "      <td>8471214</td>\n",
       "      <td>39</td>\n",
       "      <td>20132014</td>\n",
       "      <td>0.1321</td>\n",
       "      <td>386</td>\n",
       "      <td>51</td>\n",
       "    </tr>\n",
       "    <tr>\n",
       "      <th>2888</th>\n",
       "      <td>22</td>\n",
       "      <td>64</td>\n",
       "      <td>8475765</td>\n",
       "      <td>7</td>\n",
       "      <td>20132014</td>\n",
       "      <td>0.1544</td>\n",
       "      <td>136</td>\n",
       "      <td>21</td>\n",
       "    </tr>\n",
       "    <tr>\n",
       "      <th>3140</th>\n",
       "      <td>18</td>\n",
       "      <td>62</td>\n",
       "      <td>8474034</td>\n",
       "      <td>4</td>\n",
       "      <td>20132014</td>\n",
       "      <td>0.1182</td>\n",
       "      <td>93</td>\n",
       "      <td>11</td>\n",
       "    </tr>\n",
       "    <tr>\n",
       "      <th>3339</th>\n",
       "      <td>34</td>\n",
       "      <td>59</td>\n",
       "      <td>8471707</td>\n",
       "      <td>26</td>\n",
       "      <td>20132014</td>\n",
       "      <td>0.1134</td>\n",
       "      <td>238</td>\n",
       "      <td>27</td>\n",
       "    </tr>\n",
       "    <tr>\n",
       "      <th>3669</th>\n",
       "      <td>15</td>\n",
       "      <td>40</td>\n",
       "      <td>8471707</td>\n",
       "      <td>16</td>\n",
       "      <td>20122013</td>\n",
       "      <td>0.1544</td>\n",
       "      <td>136</td>\n",
       "      <td>21</td>\n",
       "    </tr>\n",
       "    <tr>\n",
       "      <th>3977</th>\n",
       "      <td>11</td>\n",
       "      <td>38</td>\n",
       "      <td>8475765</td>\n",
       "      <td>5</td>\n",
       "      <td>20122013</td>\n",
       "      <td>0.1066</td>\n",
       "      <td>75</td>\n",
       "      <td>8</td>\n",
       "    </tr>\n",
       "    <tr>\n",
       "      <th>4009</th>\n",
       "      <td>1</td>\n",
       "      <td>13</td>\n",
       "      <td>8474034</td>\n",
       "      <td>0</td>\n",
       "      <td>20122013</td>\n",
       "      <td>0.0952</td>\n",
       "      <td>21</td>\n",
       "      <td>2</td>\n",
       "    </tr>\n",
       "    <tr>\n",
       "      <th>4081</th>\n",
       "      <td>24</td>\n",
       "      <td>48</td>\n",
       "      <td>8471214</td>\n",
       "      <td>27</td>\n",
       "      <td>20122013</td>\n",
       "      <td>0.1454</td>\n",
       "      <td>220</td>\n",
       "      <td>32</td>\n",
       "    </tr>\n",
       "    <tr>\n",
       "      <th>4584</th>\n",
       "      <td>41</td>\n",
       "      <td>80</td>\n",
       "      <td>8471707</td>\n",
       "      <td>30</td>\n",
       "      <td>20112012</td>\n",
       "      <td>0.1215</td>\n",
       "      <td>329</td>\n",
       "      <td>40</td>\n",
       "    </tr>\n",
       "    <tr>\n",
       "      <th>4887</th>\n",
       "      <td>0</td>\n",
       "      <td>2</td>\n",
       "      <td>8474034</td>\n",
       "      <td>0</td>\n",
       "      <td>20112012</td>\n",
       "      <td>0.0000</td>\n",
       "      <td>1</td>\n",
       "      <td>0</td>\n",
       "    </tr>\n",
       "    <tr>\n",
       "      <th>5253</th>\n",
       "      <td>27</td>\n",
       "      <td>78</td>\n",
       "      <td>8471214</td>\n",
       "      <td>23</td>\n",
       "      <td>20112012</td>\n",
       "      <td>0.1254</td>\n",
       "      <td>303</td>\n",
       "      <td>38</td>\n",
       "    </tr>\n",
       "    <tr>\n",
       "      <th>5618</th>\n",
       "      <td>23</td>\n",
       "      <td>79</td>\n",
       "      <td>8471707</td>\n",
       "      <td>10</td>\n",
       "      <td>20102011</td>\n",
       "      <td>0.1037</td>\n",
       "      <td>212</td>\n",
       "      <td>22</td>\n",
       "    </tr>\n",
       "    <tr>\n",
       "      <th>6143</th>\n",
       "      <td>53</td>\n",
       "      <td>79</td>\n",
       "      <td>8471214</td>\n",
       "      <td>24</td>\n",
       "      <td>20102011</td>\n",
       "      <td>0.0871</td>\n",
       "      <td>367</td>\n",
       "      <td>32</td>\n",
       "    </tr>\n",
       "    <tr>\n",
       "      <th>6255</th>\n",
       "      <td>28</td>\n",
       "      <td>78</td>\n",
       "      <td>8471707</td>\n",
       "      <td>10</td>\n",
       "      <td>20092010</td>\n",
       "      <td>0.1350</td>\n",
       "      <td>200</td>\n",
       "      <td>27</td>\n",
       "    </tr>\n",
       "    <tr>\n",
       "      <th>6971</th>\n",
       "      <td>59</td>\n",
       "      <td>72</td>\n",
       "      <td>8471214</td>\n",
       "      <td>36</td>\n",
       "      <td>20092010</td>\n",
       "      <td>0.1358</td>\n",
       "      <td>368</td>\n",
       "      <td>50</td>\n",
       "    </tr>\n",
       "    <tr>\n",
       "      <th>7501</th>\n",
       "      <td>13</td>\n",
       "      <td>77</td>\n",
       "      <td>8471707</td>\n",
       "      <td>10</td>\n",
       "      <td>20082009</td>\n",
       "      <td>0.1403</td>\n",
       "      <td>171</td>\n",
       "      <td>24</td>\n",
       "    </tr>\n",
       "    <tr>\n",
       "      <th>7614</th>\n",
       "      <td>54</td>\n",
       "      <td>79</td>\n",
       "      <td>8471214</td>\n",
       "      <td>46</td>\n",
       "      <td>20082009</td>\n",
       "      <td>0.1060</td>\n",
       "      <td>528</td>\n",
       "      <td>56</td>\n",
       "    </tr>\n",
       "    <tr>\n",
       "      <th>8628</th>\n",
       "      <td>47</td>\n",
       "      <td>82</td>\n",
       "      <td>8471214</td>\n",
       "      <td>37</td>\n",
       "      <td>20072008</td>\n",
       "      <td>0.1457</td>\n",
       "      <td>446</td>\n",
       "      <td>65</td>\n",
       "    </tr>\n",
       "    <tr>\n",
       "      <th>9067</th>\n",
       "      <td>46</td>\n",
       "      <td>82</td>\n",
       "      <td>8471214</td>\n",
       "      <td>37</td>\n",
       "      <td>20062007</td>\n",
       "      <td>0.1173</td>\n",
       "      <td>392</td>\n",
       "      <td>46</td>\n",
       "    </tr>\n",
       "    <tr>\n",
       "      <th>9919</th>\n",
       "      <td>54</td>\n",
       "      <td>81</td>\n",
       "      <td>8471214</td>\n",
       "      <td>52</td>\n",
       "      <td>20052006</td>\n",
       "      <td>0.1223</td>\n",
       "      <td>425</td>\n",
       "      <td>52</td>\n",
       "    </tr>\n",
       "  </tbody>\n",
       "</table>\n",
       "</div>"
      ],
      "text/plain": [
       "      assists  gamesPlayed  playerId  ppPoints  seasonId  shootingPctg  shots  \\\n",
       "1          36           82   8475765        22  20162017        0.1363    286   \n",
       "9          15           81   8474034         6  20162017        0.1516    178   \n",
       "15         18           70   8471707        13  20162017        0.1138    202   \n",
       "862        36           82   8471214        26  20162017        0.1054    313   \n",
       "910        21           79   8471214        24  20152016        0.1256    398   \n",
       "956        27           82   8471707        14  20152016        0.1156    268   \n",
       "1137       34           80   8475765        24  20152016        0.1369    292   \n",
       "1763       15           72   8474034         8  20152016        0.1153    104   \n",
       "2277       25           71   8474034         7  20142015        0.0750    120   \n",
       "2464       36           77   8475765        18  20142015        0.1401    264   \n",
       "2472       28           81   8471214        34  20142015        0.1341    395   \n",
       "2613       14           67   8471707         4  20142015        0.1040    221   \n",
       "2690       28           78   8471214        39  20132014        0.1321    386   \n",
       "2888       22           64   8475765         7  20132014        0.1544    136   \n",
       "3140       18           62   8474034         4  20132014        0.1182     93   \n",
       "3339       34           59   8471707        26  20132014        0.1134    238   \n",
       "3669       15           40   8471707        16  20122013        0.1544    136   \n",
       "3977       11           38   8475765         5  20122013        0.1066     75   \n",
       "4009        1           13   8474034         0  20122013        0.0952     21   \n",
       "4081       24           48   8471214        27  20122013        0.1454    220   \n",
       "4584       41           80   8471707        30  20112012        0.1215    329   \n",
       "4887        0            2   8474034         0  20112012        0.0000      1   \n",
       "5253       27           78   8471214        23  20112012        0.1254    303   \n",
       "5618       23           79   8471707        10  20102011        0.1037    212   \n",
       "6143       53           79   8471214        24  20102011        0.0871    367   \n",
       "6255       28           78   8471707        10  20092010        0.1350    200   \n",
       "6971       59           72   8471214        36  20092010        0.1358    368   \n",
       "7501       13           77   8471707        10  20082009        0.1403    171   \n",
       "7614       54           79   8471214        46  20082009        0.1060    528   \n",
       "8628       47           82   8471214        37  20072008        0.1457    446   \n",
       "9067       46           82   8471214        37  20062007        0.1173    392   \n",
       "9919       54           81   8471214        52  20052006        0.1223    425   \n",
       "\n",
       "      goals  \n",
       "1        39  \n",
       "9        27  \n",
       "15       23  \n",
       "862      33  \n",
       "910      50  \n",
       "956      31  \n",
       "1137     40  \n",
       "1763     12  \n",
       "2277      9  \n",
       "2464     37  \n",
       "2472     53  \n",
       "2613     23  \n",
       "2690     51  \n",
       "2888     21  \n",
       "3140     11  \n",
       "3339     27  \n",
       "3669     21  \n",
       "3977      8  \n",
       "4009      2  \n",
       "4081     32  \n",
       "4584     40  \n",
       "4887      0  \n",
       "5253     38  \n",
       "5618     22  \n",
       "6143     32  \n",
       "6255     27  \n",
       "6971     50  \n",
       "7501     24  \n",
       "7614     56  \n",
       "8628     65  \n",
       "9067     46  \n",
       "9919     52  "
      ]
     },
     "execution_count": 10,
     "metadata": {},
     "output_type": "execute_result"
    }
   ],
   "source": [
    "cols = list(SKATERstats.columns.values) #Make a list of all of the columns in the df\n",
    "cols.pop(cols.index('goals')) #Remove Goals from list\n",
    "SKATERstats = SKATERstats[cols+['goals']] #Create new dataframe with columns in the order you want\n",
    "\n",
    "SKATERstats"
   ]
  },
  {
   "cell_type": "markdown",
   "metadata": {},
   "source": [
    "We'll also scale the data now:"
   ]
  },
  {
   "cell_type": "code",
   "execution_count": 11,
   "metadata": {
    "collapsed": false
   },
   "outputs": [],
   "source": [
    "scaler = MinMaxScaler(feature_range=(0, 1)) # JB used -1,1 when data was stationary\n",
    "scaler = scaler.fit(SKATERstats.values)\n",
    "\n",
    "# Convert this dataframe to an array and scale:\n",
    "SKATERscaled = scaler.transform(SKATERstats.values)\n",
    "\n",
    "# to unscale, we'll use:\n",
    "# inverted = scaler.inverse_transform(array)"
   ]
  },
  {
   "cell_type": "markdown",
   "metadata": {},
   "source": [
    "The next cell is from JB's code. I don't think it's necessary for me."
   ]
  },
  {
   "cell_type": "raw",
   "metadata": {},
   "source": [
    "# load dataset\n",
    "dataset = read_csv('pollution.csv', header=0, index_col=0)\n",
    "values = dataset.values\n",
    "# integer encode direction\n",
    "encoder = LabelEncoder()\n",
    "values[:,4] = encoder.fit_transform(values[:,4])\n",
    "# ensure all data is float\n",
    "values = values.astype('float32')\n",
    "# normalize features\n",
    "scaler = MinMaxScaler(feature_range=(0, 1))\n",
    "scaled = scaler.fit_transform(values)"
   ]
  },
  {
   "cell_type": "markdown",
   "metadata": {},
   "source": [
    "Before we transform the data, we'll need to sort the data into 3D. The transform should probably be applied within the sorting algorithm."
   ]
  },
  {
   "cell_type": "code",
   "execution_count": 12,
   "metadata": {
    "collapsed": true
   },
   "outputs": [],
   "source": [
    "def sortforML_scale_supervised(df ,scaler):\n",
    "    # Input a dataframe, get back a numpy array.\n",
    "    \n",
    "    # This algorithm assumes the dataframe is already sorted by year (latest first).\n",
    "    # Also, make sure the dataframe has the stat you desire to predict as the last column.\n",
    "    \n",
    "    # Sometimes the column names present difficulties for indexing.\n",
    "    \n",
    "    # To match JB's example, the data should exist as (sample,timestep,features).\n",
    "    # Wait a second... he uses all the time sampels as samples, not timesteps. I'll just do what he does!\n",
    "    \n",
    "    # Create a zero array the size that we want\n",
    "    out = numpy.zeros((len(df.seasonId.unique()), len(df.playerId.unique()), len(df.columns)+1))\n",
    "    \n",
    "    # Make empty values -1 instead of 0\n",
    "    out -=1\n",
    "    \n",
    "    # Loop through all players in the dataset. Place their stats into a unique layer in the output array.\n",
    "    for i, player in enumerate(df.playerId.unique()):\n",
    "        # Populate a layer in the output array.\n",
    "        \n",
    "        # Aside... I'm torn on whether ensure consistency in the position of the years in the output array.\n",
    "        # i.e. Should 20122013 always be found in the same row, regardless of the player? Retired players wouldn't\n",
    "        # have stats for the latest years, so to do this, one would have to shift the data down a number of rows\n",
    "        # within their layer. This would create a pad of zeros at the top of their stats though... problem?\n",
    "        # I'll move ahead with the simpler operation: first row of all layers will be the player's latest season.\n",
    "        # If seasonId is included in the stats, the ML algorithm will have access to the year. Maybe that's enough.\n",
    "        \n",
    "        popped = df.loc[df['playerId'] == player].values\n",
    "        \n",
    "        # apply scaler\n",
    "        popscaled = scaler.transform(popped)\n",
    "        \n",
    "        # transform to supervised (takes array and returns df - this enables the next step...)\n",
    "        poptrans = series_to_supervised(popscaled, 1, 1)\n",
    "        # remove all new columns except the new un-lagged one that we're trying to predict\n",
    "        poptrans.drop(poptrans.columns[[8,9,10,11,12,13,14]], axis=1, inplace=True)\n",
    "        poptrans = poptrans.values\n",
    "        \n",
    "        out[:len(poptrans),i,:]=poptrans\n",
    "        \n",
    "    return out"
   ]
  },
  {
   "cell_type": "markdown",
   "metadata": {},
   "source": [
    "Let's apply the function that transforms the data:"
   ]
  },
  {
   "cell_type": "code",
   "execution_count": 13,
   "metadata": {
    "collapsed": false
   },
   "outputs": [],
   "source": [
    "Sstats3D = sortforML_scale_supervised(SKATERstats, scaler)\n"
   ]
  },
  {
   "cell_type": "markdown",
   "metadata": {},
   "source": [
    "I will split the data into training and test data. Let's say the latest two seasons are the test!"
   ]
  },
  {
   "cell_type": "code",
   "execution_count": 14,
   "metadata": {
    "collapsed": false
   },
   "outputs": [
    {
     "name": "stdout",
     "output_type": "stream",
     "text": [
      "(10, 4, 8) (10, 4) (2, 4, 8) (2, 4)\n"
     ]
    }
   ],
   "source": [
    "# split into train and test sets\n",
    "train = Sstats3D[2:, :, :]\n",
    "test = Sstats3D[:2, :, :]\n",
    "# split into input and outputs\n",
    "train_X, train_y = train[:, :, :-1], train[:, :, -1]\n",
    "test_X, test_y = test[:, :, :-1], test[:, :, -1]\n",
    "# reshape input to be 3D [samples, timesteps, features]\n",
    "#train_X = train_X.reshape((train_X.shape[0], 1, train_X.shape[1]))\n",
    "#test_X = test_X.reshape((test_X.shape[0], 1, test_X.shape[1]))\n",
    "print(train_X.shape, train_y.shape, test_X.shape, test_y.shape)"
   ]
  },
  {
   "cell_type": "markdown",
   "metadata": {},
   "source": [
    "Designing a network"
   ]
  },
  {
   "cell_type": "code",
   "execution_count": 15,
   "metadata": {
    "collapsed": false,
    "scrolled": false
   },
   "outputs": [
    {
     "data": {
      "image/png": "[encoded data removed]",
      "text/plain": [
       "<matplotlib.figure.Figure at 0x11b1b3940>"
      ]
     },
     "metadata": {},
     "output_type": "display_data"
    }
   ],
   "source": [
    "# design network\n",
    "model = Sequential()\n",
    "model.add(Masking(mask_value=-1, input_shape=(train_X.shape[1], train_X.shape[2])))\n",
    "model.add(LSTM(50))\n",
    "model.add(Dense(4))\n",
    "model.compile(loss='mae', optimizer='adam')\n",
    "# fit network\n",
    "history = model.fit(train_X, train_y, epochs=200, batch_size=72, validation_data=(test_X, test_y), verbose=0, shuffle=False)\n",
    "# plot history\n",
    "pyplot.plot(history.history['loss'], label='train')\n",
    "pyplot.plot(history.history['val_loss'], label='test')\n",
    "pyplot.legend()\n",
    "pyplot.show()"
   ]
  },
  {
   "cell_type": "markdown",
   "metadata": {},
   "source": [
    "Make a prediction and evaluate the performance"
   ]
  },
  {
   "cell_type": "code",
   "execution_count": 16,
   "metadata": {
    "collapsed": false
   },
   "outputs": [
    {
     "name": "stdout",
     "output_type": "stream",
     "text": [
      "Test RMSE: 10.998\n"
     ]
    }
   ],
   "source": [
    "# make a prediction\n",
    "yhat = model.predict(test_X)\n",
    "\n",
    "# make yhat dimension match test_X\n",
    "yhat = numpy.expand_dims(yhat,axis=2)\n",
    "\n",
    "# invert scaling for forecast\n",
    "inv_yhat = numpy.concatenate((test_X[:,:,:-1],yhat), axis=2)\n",
    "for i in range(inv_yhat.shape[1]):\n",
    "    inv_yhat[:,i,:] = scaler.inverse_transform(inv_yhat[:,i,:])\n",
    "inv_yhat = inv_yhat[:,:,-1]\n",
    "\n",
    "# invert scaling for actual\n",
    "\n",
    "# make y dimension match test_X\n",
    "test_y = numpy.expand_dims(test_y,axis=2)\n",
    "\n",
    "#test_y = test_y.reshape((len(test_y), 1))\n",
    "inv_y = numpy.concatenate((test_X[:, :, :-1],test_y), axis=2)\n",
    "for i in range(inv_y.shape[1]):\n",
    "    inv_y[:,i,:] = scaler.inverse_transform(inv_y[:,i,:])\n",
    "inv_y = inv_y[:,:,-1]\n",
    "\n",
    "# calculate RMSE\n",
    "rmse = sqrt(mean_squared_error(inv_y, inv_yhat))\n",
    "print('Test RMSE: %.3f' % rmse)"
   ]
  },
  {
   "cell_type": "markdown",
   "metadata": {},
   "source": [
    "Let's see how we did for these fellas in particular."
   ]
  },
  {
   "cell_type": "code",
   "execution_count": 19,
   "metadata": {
    "collapsed": false
   },
   "outputs": [
    {
     "name": "stdout",
     "output_type": "stream",
     "text": [
      "Player 0, year 1 (predicted,actual) = ( 27 , 40 )\n",
      "Player 0, year 2 (predicted,actual) = ( 25 , 36 )\n",
      "Player 1, year 1 (predicted,actual) = ( 24 , 12 )\n",
      "Player 1, year 2 (predicted,actual) = ( 15 , 9 )\n",
      "Player 2, year 1 (predicted,actual) = ( 44 , 31 )\n",
      "Player 2, year 2 (predicted,actual) = ( 38 , 23 )\n",
      "Player 3, year 1 (predicted,actual) = ( 44 , 50 )\n",
      "Player 3, year 2 (predicted,actual) = ( 48 , 52 )\n"
     ]
    }
   ],
   "source": [
    "for i in range(inv_yhat.shape[1]):\n",
    "    print('Player %s, year 1 (predicted,actual) = ( %s , %s )' % (i, int(inv_yhat[0,i]),int(inv_y[0,i])))\n",
    "    print('Player %s, year 2 (predicted,actual) = ( %s , %s )' % (i, int(inv_yhat[1,i]),int(inv_y[1,i])))"
   ]
  }
 ],
 "metadata": {
  "anaconda-cloud": {},
  "kernelspec": {
   "display_name": "Python [default]",
   "language": "python",
   "name": "python3"
  },
  "language_info": {
   "codemirror_mode": {
    "name": "ipython",
    "version": 3
   },
   "file_extension": ".py",
   "mimetype": "text/x-python",
   "name": "python",
   "nbconvert_exporter": "python",
   "pygments_lexer": "ipython3",
   "version": "3.5.2"
  }
 },
 "nbformat": 4,
 "nbformat_minor": 1
}
